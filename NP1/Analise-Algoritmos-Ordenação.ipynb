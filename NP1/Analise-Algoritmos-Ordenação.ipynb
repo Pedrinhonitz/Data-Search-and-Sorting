{
 "cells": [
  {
   "cell_type": "markdown",
   "id": "16638c79-708f-4cf4-ba2a-5dd0dce87a32",
   "metadata": {
    "tags": []
   },
   "source": [
    "# ⚠️ - Sorting Algorithm Graphics\n",
    "\n",
    "### 📚 - Students: Pedro Henrique Klein e Vinicius Koncicoski\n",
    "### 👨‍🏫 - Teacher: Geomar André Schreiner"
   ]
  },
  {
   "cell_type": "markdown",
   "id": "01b24b15-4f77-4ded-b18d-f6fd149ccb79",
   "metadata": {},
   "source": [
    "## • Imports and Conections"
   ]
  },
  {
   "cell_type": "code",
   "execution_count": 1,
   "id": "accf6c8b-5cfa-426d-a695-55b5d7a245c9",
   "metadata": {},
   "outputs": [],
   "source": [
    "import pandas as pd\n",
    "import numpy as np\n",
    "import matplotlib.pyplot as plt"
   ]
  },
  {
   "cell_type": "markdown",
   "id": "99bb5c83-2f1f-441b-b028-fa73c8ac064d",
   "metadata": {},
   "source": [
    "## • Order Size"
   ]
  },
  {
   "cell_type": "code",
   "execution_count": 2,
   "id": "1f769784-892d-4665-8d6e-2d1e640b549c",
   "metadata": {},
   "outputs": [],
   "source": [
    "ordenado = ['ordenado_10k', 'ordenado_50k', 'ordenado_100k', 'ordenado_decrescente_10k', 'ordenado_decrescente_50k', 'ordenado_decrescente_100k', 'aleatorio_10k', 'aleatorio_50k', 'aleatorio_100k']"
   ]
  },
  {
   "cell_type": "markdown",
   "id": "59945366-c29d-4459-b42a-70c68d00f19b",
   "metadata": {
    "tags": []
   },
   "source": [
    "## • Bubble Sort - Computer 1"
   ]
  },
  {
   "cell_type": "markdown",
   "id": "2a48861f-f649-46c8-a2e2-b86c115de293",
   "metadata": {},
   "source": [
    "### → Tables"
   ]
  },
  {
   "cell_type": "code",
   "execution_count": 3,
   "id": "8cfad953-ec70-4a04-a3b1-023fc03551a1",
   "metadata": {},
   "outputs": [
    {
     "data": {
      "text/html": [
       "<div>\n",
       "<style scoped>\n",
       "    .dataframe tbody tr th:only-of-type {\n",
       "        vertical-align: middle;\n",
       "    }\n",
       "\n",
       "    .dataframe tbody tr th {\n",
       "        vertical-align: top;\n",
       "    }\n",
       "\n",
       "    .dataframe thead th {\n",
       "        text-align: right;\n",
       "    }\n",
       "</style>\n",
       "<table border=\"1\" class=\"dataframe\">\n",
       "  <thead>\n",
       "    <tr style=\"text-align: right;\">\n",
       "      <th></th>\n",
       "      <th>Quantidade de Dados</th>\n",
       "      <th>Tempo / MS</th>\n",
       "      <th>Swaps</th>\n",
       "      <th>Comparações</th>\n",
       "    </tr>\n",
       "  </thead>\n",
       "  <tbody>\n",
       "    <tr>\n",
       "      <th>0</th>\n",
       "      <td>ordenado_10k</td>\n",
       "      <td>166</td>\n",
       "      <td>0</td>\n",
       "      <td>49995000</td>\n",
       "    </tr>\n",
       "    <tr>\n",
       "      <th>1</th>\n",
       "      <td>ordenado_50k</td>\n",
       "      <td>4529</td>\n",
       "      <td>0</td>\n",
       "      <td>1249975000</td>\n",
       "    </tr>\n",
       "    <tr>\n",
       "      <th>2</th>\n",
       "      <td>ordenado_100k</td>\n",
       "      <td>18730</td>\n",
       "      <td>0</td>\n",
       "      <td>4999950000</td>\n",
       "    </tr>\n",
       "    <tr>\n",
       "      <th>3</th>\n",
       "      <td>ordenado_decrescente_10k</td>\n",
       "      <td>303</td>\n",
       "      <td>49995000</td>\n",
       "      <td>49995000</td>\n",
       "    </tr>\n",
       "    <tr>\n",
       "      <th>4</th>\n",
       "      <td>ordenado_decrescente_50k</td>\n",
       "      <td>8146</td>\n",
       "      <td>1249975000</td>\n",
       "      <td>1249975000</td>\n",
       "    </tr>\n",
       "    <tr>\n",
       "      <th>5</th>\n",
       "      <td>ordenado_decrescente_100k</td>\n",
       "      <td>33189</td>\n",
       "      <td>4999950000</td>\n",
       "      <td>4999950000</td>\n",
       "    </tr>\n",
       "    <tr>\n",
       "      <th>6</th>\n",
       "      <td>aleatorio_10k</td>\n",
       "      <td>429</td>\n",
       "      <td>24500401</td>\n",
       "      <td>49995000</td>\n",
       "    </tr>\n",
       "    <tr>\n",
       "      <th>7</th>\n",
       "      <td>aleatorio_50k</td>\n",
       "      <td>10328</td>\n",
       "      <td>581227527</td>\n",
       "      <td>1249975000</td>\n",
       "    </tr>\n",
       "    <tr>\n",
       "      <th>8</th>\n",
       "      <td>aleatorio_100k</td>\n",
       "      <td>39712</td>\n",
       "      <td>2025347058</td>\n",
       "      <td>4999950000</td>\n",
       "    </tr>\n",
       "  </tbody>\n",
       "</table>\n",
       "</div>"
      ],
      "text/plain": [
       "         Quantidade de Dados  Tempo / MS       Swaps  Comparações\n",
       "0               ordenado_10k         166           0     49995000\n",
       "1               ordenado_50k        4529           0   1249975000\n",
       "2              ordenado_100k       18730           0   4999950000\n",
       "3   ordenado_decrescente_10k         303    49995000     49995000\n",
       "4   ordenado_decrescente_50k        8146  1249975000   1249975000\n",
       "5  ordenado_decrescente_100k       33189  4999950000   4999950000\n",
       "6              aleatorio_10k         429    24500401     49995000\n",
       "7              aleatorio_50k       10328   581227527   1249975000\n",
       "8             aleatorio_100k       39712  2025347058   4999950000"
      ]
     },
     "execution_count": 3,
     "metadata": {},
     "output_type": "execute_result"
    }
   ],
   "source": [
    "comp = {'Comparações' : [49995000, 1249975000, 4999950000, 49995000, 1249975000, 4999950000, 49995000, 1249975000, 4999950000]}\n",
    "swaps = [0, 0, 0, 49995000, 1249975000, 4999950000, 24500401, 581227527, 2025347058]\n",
    "temp = [166, 4529, 18730, 303, 8146, 33189, 429, 10328, 39712]\n",
    "df_bubble_pc1 = pd.DataFrame(comp)\n",
    "df_bubble_pc1['Swaps'] = swaps\n",
    "df_bubble_pc1['Tempo / MS'] = temp\n",
    "df_bubble_pc1['Quantidade de Dados'] = ordenado\n",
    "df_bubble_pc1 = df_bubble_pc1[['Quantidade de Dados', 'Tempo / MS', 'Swaps', 'Comparações']]\n",
    "df_bubble_pc1"
   ]
  },
  {
   "cell_type": "markdown",
   "id": "6fb9ebaa-744c-4e0d-bec1-2dd51035a582",
   "metadata": {},
   "source": [
    "### → Graphics"
   ]
  },
  {
   "cell_type": "code",
   "execution_count": 4,
   "id": "c2e9da65-9961-401a-b134-644400f6c6b2",
   "metadata": {},
   "outputs": [
    {
     "data": {
      "image/png": "[encoded data removed]",
      "text/plain": [
       "<Figure size 720x360 with 1 Axes>"
      ]
     },
     "metadata": {
      "needs_background": "light"
     },
     "output_type": "display_data"
    }
   ],
   "source": [
    "temp.sort()\n",
    "plt.figure(figsize=(10,5))\n",
    "plt.plot(ordenado, temp)\n",
    "plt.title(f\"Bubble Sort - Computador 1\")\n",
    "plt.xticks(rotation=45)\n",
    "plt.show()"
   ]
  },
  {
   "cell_type": "markdown",
   "id": "23f05514-446e-4fda-8bf3-27aad6d2e519",
   "metadata": {
    "tags": []
   },
   "source": [
    "## • Bubble Sort - Computer 2"
   ]
  },
  {
   "cell_type": "markdown",
   "id": "cdafeb95-2775-483d-bc29-0cff92da5232",
   "metadata": {},
   "source": [
    "### → Tables"
   ]
  },
  {
   "cell_type": "code",
   "execution_count": 5,
   "id": "916f98e3-944a-43db-be7d-261c47906ccc",
   "metadata": {},
   "outputs": [
    {
     "data": {
      "text/html": [
       "<div>\n",
       "<style scoped>\n",
       "    .dataframe tbody tr th:only-of-type {\n",
       "        vertical-align: middle;\n",
       "    }\n",
       "\n",
       "    .dataframe tbody tr th {\n",
       "        vertical-align: top;\n",
       "    }\n",
       "\n",
       "    .dataframe thead th {\n",
       "        text-align: right;\n",
       "    }\n",
       "</style>\n",
       "<table border=\"1\" class=\"dataframe\">\n",
       "  <thead>\n",
       "    <tr style=\"text-align: right;\">\n",
       "      <th></th>\n",
       "      <th>Quantidade de Dados</th>\n",
       "      <th>Tempo / MS</th>\n",
       "      <th>Swaps</th>\n",
       "      <th>Comparações</th>\n",
       "    </tr>\n",
       "  </thead>\n",
       "  <tbody>\n",
       "    <tr>\n",
       "      <th>0</th>\n",
       "      <td>ordenado_10k</td>\n",
       "      <td>171</td>\n",
       "      <td>0</td>\n",
       "      <td>49995000</td>\n",
       "    </tr>\n",
       "    <tr>\n",
       "      <th>1</th>\n",
       "      <td>ordenado_50k</td>\n",
       "      <td>4325</td>\n",
       "      <td>0</td>\n",
       "      <td>1249975000</td>\n",
       "    </tr>\n",
       "    <tr>\n",
       "      <th>2</th>\n",
       "      <td>ordenado_100k</td>\n",
       "      <td>15524</td>\n",
       "      <td>0</td>\n",
       "      <td>4999950000</td>\n",
       "    </tr>\n",
       "    <tr>\n",
       "      <th>3</th>\n",
       "      <td>ordenado_decrescente_10k</td>\n",
       "      <td>353</td>\n",
       "      <td>49995000</td>\n",
       "      <td>49995000</td>\n",
       "    </tr>\n",
       "    <tr>\n",
       "      <th>4</th>\n",
       "      <td>ordenado_decrescente_50k</td>\n",
       "      <td>8982</td>\n",
       "      <td>1249975000</td>\n",
       "      <td>1249975000</td>\n",
       "    </tr>\n",
       "    <tr>\n",
       "      <th>5</th>\n",
       "      <td>ordenado_decrescente_100k</td>\n",
       "      <td>29667</td>\n",
       "      <td>4999950000</td>\n",
       "      <td>4999950000</td>\n",
       "    </tr>\n",
       "    <tr>\n",
       "      <th>6</th>\n",
       "      <td>aleatorio_10k</td>\n",
       "      <td>311</td>\n",
       "      <td>24500401</td>\n",
       "      <td>49995000</td>\n",
       "    </tr>\n",
       "    <tr>\n",
       "      <th>7</th>\n",
       "      <td>aleatorio_50k</td>\n",
       "      <td>9574</td>\n",
       "      <td>581227527</td>\n",
       "      <td>1249975000</td>\n",
       "    </tr>\n",
       "    <tr>\n",
       "      <th>8</th>\n",
       "      <td>aleatorio_100k</td>\n",
       "      <td>30771</td>\n",
       "      <td>2025347058</td>\n",
       "      <td>4999950000</td>\n",
       "    </tr>\n",
       "  </tbody>\n",
       "</table>\n",
       "</div>"
      ],
      "text/plain": [
       "         Quantidade de Dados  Tempo / MS       Swaps  Comparações\n",
       "0               ordenado_10k         171           0     49995000\n",
       "1               ordenado_50k        4325           0   1249975000\n",
       "2              ordenado_100k       15524           0   4999950000\n",
       "3   ordenado_decrescente_10k         353    49995000     49995000\n",
       "4   ordenado_decrescente_50k        8982  1249975000   1249975000\n",
       "5  ordenado_decrescente_100k       29667  4999950000   4999950000\n",
       "6              aleatorio_10k         311    24500401     49995000\n",
       "7              aleatorio_50k        9574   581227527   1249975000\n",
       "8             aleatorio_100k       30771  2025347058   4999950000"
      ]
     },
     "execution_count": 5,
     "metadata": {},
     "output_type": "execute_result"
    }
   ],
   "source": [
    "comp = {'Comparações' : [49995000, 1249975000, 4999950000, 49995000, 1249975000, 4999950000, 49995000, 1249975000, 4999950000]}\n",
    "swaps = [0, 0, 0, 49995000, 1249975000, 4999950000, 24500401, 581227527, 2025347058]\n",
    "temp = [171, 4325, 15524, 353, 8982, 29667, 311, 9574, 30771]\n",
    "df_bubble_pc2 = pd.DataFrame(comp)\n",
    "df_bubble_pc2['Swaps'] = swaps\n",
    "df_bubble_pc2['Tempo / MS'] = temp\n",
    "df_bubble_pc2['Quantidade de Dados'] = ordenado\n",
    "df_bubble_pc2 = df_bubble_pc2[['Quantidade de Dados', 'Tempo / MS', 'Swaps', 'Comparações']]\n",
    "df_bubble_pc2"
   ]
  },
  {
   "cell_type": "markdown",
   "id": "d23f0dca-8522-49d5-8cc2-3dbfac407c03",
   "metadata": {},
   "source": [
    "### → Graphics"
   ]
  },
  {
   "cell_type": "code",
   "execution_count": 6,
   "id": "8b4b2412-fe5f-44de-9bfe-02a5a57cf1ba",
   "metadata": {},
   "outputs": [
    {
     "data": {
      "image/png": "[encoded data removed]",
      "text/plain": [
       "<Figure size 720x360 with 1 Axes>"
      ]
     },
     "metadata": {
      "needs_background": "light"
     },
     "output_type": "display_data"
    }
   ],
   "source": [
    "temp.sort()\n",
    "plt.figure(figsize=(10,5))\n",
    "plt.plot(ordenado, temp)\n",
    "plt.title(f\"Bubble Sort - Computador 2\")\n",
    "plt.xticks(rotation=45)\n",
    "plt.show()"
   ]
  },
  {
   "cell_type": "markdown",
   "id": "5bff00b9-b3a0-4351-a1cf-67430d49dc8c",
   "metadata": {
    "tags": []
   },
   "source": [
    "## • Selection Sort - Computer 1"
   ]
  },
  {
   "cell_type": "markdown",
   "id": "f9282dff-56c0-49e3-b2e0-47bb75b84033",
   "metadata": {},
   "source": [
    "### → Tables"
   ]
  },
  {
   "cell_type": "code",
   "execution_count": 7,
   "id": "0f2bf755-2532-4154-8a71-c90edffd7432",
   "metadata": {},
   "outputs": [
    {
     "data": {
      "text/html": [
       "<div>\n",
       "<style scoped>\n",
       "    .dataframe tbody tr th:only-of-type {\n",
       "        vertical-align: middle;\n",
       "    }\n",
       "\n",
       "    .dataframe tbody tr th {\n",
       "        vertical-align: top;\n",
       "    }\n",
       "\n",
       "    .dataframe thead th {\n",
       "        text-align: right;\n",
       "    }\n",
       "</style>\n",
       "<table border=\"1\" class=\"dataframe\">\n",
       "  <thead>\n",
       "    <tr style=\"text-align: right;\">\n",
       "      <th></th>\n",
       "      <th>Quantidade de Dados</th>\n",
       "      <th>Tempo / MS</th>\n",
       "      <th>Swaps</th>\n",
       "      <th>Comparações</th>\n",
       "    </tr>\n",
       "  </thead>\n",
       "  <tbody>\n",
       "    <tr>\n",
       "      <th>0</th>\n",
       "      <td>ordenado_10k</td>\n",
       "      <td>156</td>\n",
       "      <td>0</td>\n",
       "      <td>50004999</td>\n",
       "    </tr>\n",
       "    <tr>\n",
       "      <th>1</th>\n",
       "      <td>ordenado_50k</td>\n",
       "      <td>3777</td>\n",
       "      <td>0</td>\n",
       "      <td>1250024999</td>\n",
       "    </tr>\n",
       "    <tr>\n",
       "      <th>2</th>\n",
       "      <td>ordenado_100k</td>\n",
       "      <td>14998</td>\n",
       "      <td>0</td>\n",
       "      <td>5000049999</td>\n",
       "    </tr>\n",
       "    <tr>\n",
       "      <th>3</th>\n",
       "      <td>ordenado_decrescente_10k</td>\n",
       "      <td>148</td>\n",
       "      <td>5000</td>\n",
       "      <td>50004999</td>\n",
       "    </tr>\n",
       "    <tr>\n",
       "      <th>4</th>\n",
       "      <td>ordenado_decrescente_50k</td>\n",
       "      <td>3798</td>\n",
       "      <td>25000</td>\n",
       "      <td>1250024999</td>\n",
       "    </tr>\n",
       "    <tr>\n",
       "      <th>5</th>\n",
       "      <td>ordenado_decrescente_100k</td>\n",
       "      <td>15401</td>\n",
       "      <td>50000</td>\n",
       "      <td>5000049999</td>\n",
       "    </tr>\n",
       "    <tr>\n",
       "      <th>6</th>\n",
       "      <td>aleatorio_10k</td>\n",
       "      <td>144</td>\n",
       "      <td>9989</td>\n",
       "      <td>50004999</td>\n",
       "    </tr>\n",
       "    <tr>\n",
       "      <th>7</th>\n",
       "      <td>aleatorio_50k</td>\n",
       "      <td>3804</td>\n",
       "      <td>49991</td>\n",
       "      <td>1250024999</td>\n",
       "    </tr>\n",
       "    <tr>\n",
       "      <th>8</th>\n",
       "      <td>aleatorio_100k</td>\n",
       "      <td>15264</td>\n",
       "      <td>99988</td>\n",
       "      <td>5000049999</td>\n",
       "    </tr>\n",
       "  </tbody>\n",
       "</table>\n",
       "</div>"
      ],
      "text/plain": [
       "         Quantidade de Dados  Tempo / MS  Swaps  Comparações\n",
       "0               ordenado_10k         156      0     50004999\n",
       "1               ordenado_50k        3777      0   1250024999\n",
       "2              ordenado_100k       14998      0   5000049999\n",
       "3   ordenado_decrescente_10k         148   5000     50004999\n",
       "4   ordenado_decrescente_50k        3798  25000   1250024999\n",
       "5  ordenado_decrescente_100k       15401  50000   5000049999\n",
       "6              aleatorio_10k         144   9989     50004999\n",
       "7              aleatorio_50k        3804  49991   1250024999\n",
       "8             aleatorio_100k       15264  99988   5000049999"
      ]
     },
     "execution_count": 7,
     "metadata": {},
     "output_type": "execute_result"
    }
   ],
   "source": [
    "comp = {'Comparações' : [50004999, 1250024999, 5000049999,  50004999, 1250024999, 5000049999, 50004999, 1250024999, 5000049999]}\n",
    "swaps = [0, 0, 0, 5000, 25000, 50000, 9989, 49991, 99988]\n",
    "temp = [156, 3777, 14998, 148, 3798, 15401, 144, 3804, 15264]\n",
    "df_selection_pc1 = pd.DataFrame(comp)\n",
    "df_selection_pc1['Swaps'] = swaps\n",
    "df_selection_pc1['Tempo / MS'] = temp\n",
    "df_selection_pc1['Quantidade de Dados'] = ordenado\n",
    "df_selection_pc1 = df_selection_pc1[['Quantidade de Dados', 'Tempo / MS', 'Swaps', 'Comparações']]\n",
    "df_selection_pc1"
   ]
  },
  {
   "cell_type": "markdown",
   "id": "fd52bb14-fcff-48bb-a7f6-7b8542d78d56",
   "metadata": {},
   "source": [
    "### → Graphics"
   ]
  },
  {
   "cell_type": "code",
   "execution_count": 8,
   "id": "06b89ab6-5004-4e11-90b6-eb190948aa9a",
   "metadata": {},
   "outputs": [
    {
     "data": {
      "image/png": "[encoded data removed]",
      "text/plain": [
       "<Figure size 720x360 with 1 Axes>"
      ]
     },
     "metadata": {
      "needs_background": "light"
     },
     "output_type": "display_data"
    }
   ],
   "source": [
    "temp.sort()\n",
    "plt.figure(figsize=(10,5))\n",
    "plt.plot(ordenado, temp)\n",
    "plt.title(f\"Selection Sort - Computador 1\")\n",
    "plt.xticks(rotation=45)\n",
    "plt.show()"
   ]
  },
  {
   "cell_type": "markdown",
   "id": "a0756475-1a0a-42ec-aef3-9fa4cc52476f",
   "metadata": {
    "tags": []
   },
   "source": [
    "## • Selection Sort - Computer 2"
   ]
  },
  {
   "cell_type": "markdown",
   "id": "0379b5a1-9462-4637-81d7-b2a731f5021f",
   "metadata": {
    "tags": []
   },
   "source": [
    "### → Tables"
   ]
  },
  {
   "cell_type": "code",
   "execution_count": 9,
   "id": "6e007d04-3223-47a6-a198-a88a6ad125e7",
   "metadata": {},
   "outputs": [
    {
     "data": {
      "text/html": [
       "<div>\n",
       "<style scoped>\n",
       "    .dataframe tbody tr th:only-of-type {\n",
       "        vertical-align: middle;\n",
       "    }\n",
       "\n",
       "    .dataframe tbody tr th {\n",
       "        vertical-align: top;\n",
       "    }\n",
       "\n",
       "    .dataframe thead th {\n",
       "        text-align: right;\n",
       "    }\n",
       "</style>\n",
       "<table border=\"1\" class=\"dataframe\">\n",
       "  <thead>\n",
       "    <tr style=\"text-align: right;\">\n",
       "      <th></th>\n",
       "      <th>Quantidade de Dados</th>\n",
       "      <th>Tempo / MS</th>\n",
       "      <th>Swaps</th>\n",
       "      <th>Comparações</th>\n",
       "    </tr>\n",
       "  </thead>\n",
       "  <tbody>\n",
       "    <tr>\n",
       "      <th>0</th>\n",
       "      <td>ordenado_10k</td>\n",
       "      <td>118</td>\n",
       "      <td>0</td>\n",
       "      <td>50004999</td>\n",
       "    </tr>\n",
       "    <tr>\n",
       "      <th>1</th>\n",
       "      <td>ordenado_50k</td>\n",
       "      <td>3088</td>\n",
       "      <td>0</td>\n",
       "      <td>1250024999</td>\n",
       "    </tr>\n",
       "    <tr>\n",
       "      <th>2</th>\n",
       "      <td>ordenado_100k</td>\n",
       "      <td>11886</td>\n",
       "      <td>0</td>\n",
       "      <td>5000049999</td>\n",
       "    </tr>\n",
       "    <tr>\n",
       "      <th>3</th>\n",
       "      <td>ordenado_decrescente_10k</td>\n",
       "      <td>128</td>\n",
       "      <td>5000</td>\n",
       "      <td>50004999</td>\n",
       "    </tr>\n",
       "    <tr>\n",
       "      <th>4</th>\n",
       "      <td>ordenado_decrescente_50k</td>\n",
       "      <td>3342</td>\n",
       "      <td>25000</td>\n",
       "      <td>1250024999</td>\n",
       "    </tr>\n",
       "    <tr>\n",
       "      <th>5</th>\n",
       "      <td>ordenado_decrescente_100k</td>\n",
       "      <td>12284</td>\n",
       "      <td>50000</td>\n",
       "      <td>5000049999</td>\n",
       "    </tr>\n",
       "    <tr>\n",
       "      <th>6</th>\n",
       "      <td>aleatorio_10k</td>\n",
       "      <td>128</td>\n",
       "      <td>9989</td>\n",
       "      <td>50004999</td>\n",
       "    </tr>\n",
       "    <tr>\n",
       "      <th>7</th>\n",
       "      <td>aleatorio_50k</td>\n",
       "      <td>3057</td>\n",
       "      <td>49991</td>\n",
       "      <td>1250024999</td>\n",
       "    </tr>\n",
       "    <tr>\n",
       "      <th>8</th>\n",
       "      <td>aleatorio_100k</td>\n",
       "      <td>11861</td>\n",
       "      <td>99988</td>\n",
       "      <td>5000049999</td>\n",
       "    </tr>\n",
       "  </tbody>\n",
       "</table>\n",
       "</div>"
      ],
      "text/plain": [
       "         Quantidade de Dados  Tempo / MS  Swaps  Comparações\n",
       "0               ordenado_10k         118      0     50004999\n",
       "1               ordenado_50k        3088      0   1250024999\n",
       "2              ordenado_100k       11886      0   5000049999\n",
       "3   ordenado_decrescente_10k         128   5000     50004999\n",
       "4   ordenado_decrescente_50k        3342  25000   1250024999\n",
       "5  ordenado_decrescente_100k       12284  50000   5000049999\n",
       "6              aleatorio_10k         128   9989     50004999\n",
       "7              aleatorio_50k        3057  49991   1250024999\n",
       "8             aleatorio_100k       11861  99988   5000049999"
      ]
     },
     "execution_count": 9,
     "metadata": {},
     "output_type": "execute_result"
    }
   ],
   "source": [
    "comp = {'Comparações' : [50004999, 1250024999, 5000049999,  50004999, 1250024999, 5000049999, 50004999, 1250024999, 5000049999]}\n",
    "swaps = [0, 0, 0, 5000, 25000, 50000, 9989, 49991, 99988]\n",
    "temp = [118, 3088, 11886, 128, 3342, 12284, 128, 3057, 11861]\n",
    "df_selection_pc2 = pd.DataFrame(comp)\n",
    "df_selection_pc2['Swaps'] = swaps\n",
    "df_selection_pc2['Tempo / MS'] = temp\n",
    "df_selection_pc2['Quantidade de Dados'] = ordenado\n",
    "df_selection_pc2 = df_selection_pc2[['Quantidade de Dados', 'Tempo / MS', 'Swaps', 'Comparações']]\n",
    "df_selection_pc2"
   ]
  },
  {
   "cell_type": "markdown",
   "id": "be8e317b-571d-4894-bd58-cbb1d71f43fb",
   "metadata": {},
   "source": [
    "### → Graphics"
   ]
  },
  {
   "cell_type": "code",
   "execution_count": 10,
   "id": "73cf124c-bd3c-4c60-9658-5f0716874069",
   "metadata": {},
   "outputs": [
    {
     "data": {
      "image/png": "[encoded data removed]",
      "text/plain": [
       "<Figure size 720x360 with 1 Axes>"
      ]
     },
     "metadata": {
      "needs_background": "light"
     },
     "output_type": "display_data"
    }
   ],
   "source": [
    "temp.sort()\n",
    "plt.figure(figsize=(10,5))\n",
    "plt.plot(ordenado, temp)\n",
    "plt.title(f\"Selection Sort - Computador 2\")\n",
    "plt.xticks(rotation=45)\n",
    "plt.show()"
   ]
  },
  {
   "cell_type": "markdown",
   "id": "2ce2826e-a070-44d8-9525-8d8a5f3a97cc",
   "metadata": {
    "tags": []
   },
   "source": [
    "## • Insertion Sort - Computer 1"
   ]
  },
  {
   "cell_type": "markdown",
   "id": "e42683a3-073b-4cab-944e-ef1cf7f38dfb",
   "metadata": {},
   "source": [
    "### → Tables"
   ]
  },
  {
   "cell_type": "code",
   "execution_count": 11,
   "id": "9d2eab1f-2e8b-4bc3-9f49-78096bf4c659",
   "metadata": {},
   "outputs": [
    {
     "data": {
      "text/html": [
       "<div>\n",
       "<style scoped>\n",
       "    .dataframe tbody tr th:only-of-type {\n",
       "        vertical-align: middle;\n",
       "    }\n",
       "\n",
       "    .dataframe tbody tr th {\n",
       "        vertical-align: top;\n",
       "    }\n",
       "\n",
       "    .dataframe thead th {\n",
       "        text-align: right;\n",
       "    }\n",
       "</style>\n",
       "<table border=\"1\" class=\"dataframe\">\n",
       "  <thead>\n",
       "    <tr style=\"text-align: right;\">\n",
       "      <th></th>\n",
       "      <th>Quantidade de Dados</th>\n",
       "      <th>Tempo / MS</th>\n",
       "      <th>Swaps</th>\n",
       "      <th>Comparações</th>\n",
       "    </tr>\n",
       "  </thead>\n",
       "  <tbody>\n",
       "    <tr>\n",
       "      <th>0</th>\n",
       "      <td>ordenado_10k</td>\n",
       "      <td>182</td>\n",
       "      <td>49995000</td>\n",
       "      <td>49995000</td>\n",
       "    </tr>\n",
       "    <tr>\n",
       "      <th>1</th>\n",
       "      <td>ordenado_50k</td>\n",
       "      <td>4693</td>\n",
       "      <td>1249975000</td>\n",
       "      <td>1249975000</td>\n",
       "    </tr>\n",
       "    <tr>\n",
       "      <th>2</th>\n",
       "      <td>ordenado_100k</td>\n",
       "      <td>19090</td>\n",
       "      <td>4999950000</td>\n",
       "      <td>4999950000</td>\n",
       "    </tr>\n",
       "    <tr>\n",
       "      <th>3</th>\n",
       "      <td>ordenado_decrescente_10k</td>\n",
       "      <td>231</td>\n",
       "      <td>49995000</td>\n",
       "      <td>49995000</td>\n",
       "    </tr>\n",
       "    <tr>\n",
       "      <th>4</th>\n",
       "      <td>ordenado_decrescente_50k</td>\n",
       "      <td>5765</td>\n",
       "      <td>1249975000</td>\n",
       "      <td>1249975000</td>\n",
       "    </tr>\n",
       "    <tr>\n",
       "      <th>5</th>\n",
       "      <td>ordenado_decrescente_100k</td>\n",
       "      <td>23374</td>\n",
       "      <td>4999950000</td>\n",
       "      <td>4999950000</td>\n",
       "    </tr>\n",
       "    <tr>\n",
       "      <th>6</th>\n",
       "      <td>aleatorio_10k</td>\n",
       "      <td>225</td>\n",
       "      <td>49995000</td>\n",
       "      <td>49995000</td>\n",
       "    </tr>\n",
       "    <tr>\n",
       "      <th>7</th>\n",
       "      <td>aleatorio_50k</td>\n",
       "      <td>5719</td>\n",
       "      <td>1249975000</td>\n",
       "      <td>1249975000</td>\n",
       "    </tr>\n",
       "    <tr>\n",
       "      <th>8</th>\n",
       "      <td>aleatorio_100k</td>\n",
       "      <td>22962</td>\n",
       "      <td>4999950000</td>\n",
       "      <td>4999950000</td>\n",
       "    </tr>\n",
       "  </tbody>\n",
       "</table>\n",
       "</div>"
      ],
      "text/plain": [
       "         Quantidade de Dados  Tempo / MS       Swaps  Comparações\n",
       "0               ordenado_10k         182    49995000     49995000\n",
       "1               ordenado_50k        4693  1249975000   1249975000\n",
       "2              ordenado_100k       19090  4999950000   4999950000\n",
       "3   ordenado_decrescente_10k         231    49995000     49995000\n",
       "4   ordenado_decrescente_50k        5765  1249975000   1249975000\n",
       "5  ordenado_decrescente_100k       23374  4999950000   4999950000\n",
       "6              aleatorio_10k         225    49995000     49995000\n",
       "7              aleatorio_50k        5719  1249975000   1249975000\n",
       "8             aleatorio_100k       22962  4999950000   4999950000"
      ]
     },
     "execution_count": 11,
     "metadata": {},
     "output_type": "execute_result"
    }
   ],
   "source": [
    "comp = {'Comparações' : [49995000, 1249975000, 4999950000, 49995000, 1249975000, 4999950000, 49995000, 1249975000, 4999950000]}\n",
    "swaps = [49995000, 1249975000, 4999950000, 49995000, 1249975000, 4999950000, 49995000,  1249975000, 4999950000]\n",
    "temp = [182, 4693, 19090, 231, 5765, 23374, 225, 5719, 22962]\n",
    "df_selection_pc2 = pd.DataFrame(comp)\n",
    "df_selection_pc2['Swaps'] = swaps\n",
    "df_selection_pc2['Tempo / MS'] = temp\n",
    "df_selection_pc2['Quantidade de Dados'] = ordenado\n",
    "df_selection_pc2 = df_selection_pc2[['Quantidade de Dados', 'Tempo / MS', 'Swaps', 'Comparações']]\n",
    "df_selection_pc2"
   ]
  },
  {
   "cell_type": "markdown",
   "id": "4e5af193-736b-4537-a0d5-720cbd50583e",
   "metadata": {},
   "source": [
    "### → Graphics"
   ]
  },
  {
   "cell_type": "code",
   "execution_count": 12,
   "id": "e006a390-6e6a-4a8e-9951-54e717fcc4fd",
   "metadata": {},
   "outputs": [
    {
     "data": {
      "image/png": "[encoded data removed]",
      "text/plain": [
       "<Figure size 720x360 with 1 Axes>"
      ]
     },
     "metadata": {
      "needs_background": "light"
     },
     "output_type": "display_data"
    }
   ],
   "source": [
    "temp.sort()\n",
    "plt.figure(figsize=(10,5))\n",
    "plt.plot(ordenado, temp)\n",
    "plt.title(f\"Insertion Sort - Computador 1\")\n",
    "plt.xticks(rotation=45)\n",
    "plt.show()"
   ]
  },
  {
   "cell_type": "markdown",
   "id": "0409fb50-cc6a-43d5-82cd-b356f98adf5f",
   "metadata": {},
   "source": [
    "## • Insertion Sort - Computer 2"
   ]
  },
  {
   "cell_type": "markdown",
   "id": "8cc5d2cb-e3f2-4609-9f06-84b4fd3a4061",
   "metadata": {},
   "source": [
    "### → Tables"
   ]
  },
  {
   "cell_type": "code",
   "execution_count": 13,
   "id": "93ce6877-71a6-4399-a110-2cf13e569652",
   "metadata": {},
   "outputs": [
    {
     "data": {
      "text/html": [
       "<div>\n",
       "<style scoped>\n",
       "    .dataframe tbody tr th:only-of-type {\n",
       "        vertical-align: middle;\n",
       "    }\n",
       "\n",
       "    .dataframe tbody tr th {\n",
       "        vertical-align: top;\n",
       "    }\n",
       "\n",
       "    .dataframe thead th {\n",
       "        text-align: right;\n",
       "    }\n",
       "</style>\n",
       "<table border=\"1\" class=\"dataframe\">\n",
       "  <thead>\n",
       "    <tr style=\"text-align: right;\">\n",
       "      <th></th>\n",
       "      <th>Quantidade de Dados</th>\n",
       "      <th>Tempo / MS</th>\n",
       "      <th>Swaps</th>\n",
       "      <th>Comparações</th>\n",
       "    </tr>\n",
       "  </thead>\n",
       "  <tbody>\n",
       "    <tr>\n",
       "      <th>0</th>\n",
       "      <td>ordenado_10k</td>\n",
       "      <td>160</td>\n",
       "      <td>49995000</td>\n",
       "      <td>49995000</td>\n",
       "    </tr>\n",
       "    <tr>\n",
       "      <th>1</th>\n",
       "      <td>ordenado_50k</td>\n",
       "      <td>4083</td>\n",
       "      <td>1249975000</td>\n",
       "      <td>1249975000</td>\n",
       "    </tr>\n",
       "    <tr>\n",
       "      <th>2</th>\n",
       "      <td>ordenado_100k</td>\n",
       "      <td>14949</td>\n",
       "      <td>4999950000</td>\n",
       "      <td>4999950000</td>\n",
       "    </tr>\n",
       "    <tr>\n",
       "      <th>3</th>\n",
       "      <td>ordenado_decrescente_10k</td>\n",
       "      <td>203</td>\n",
       "      <td>49995000</td>\n",
       "      <td>49995000</td>\n",
       "    </tr>\n",
       "    <tr>\n",
       "      <th>4</th>\n",
       "      <td>ordenado_decrescente_50k</td>\n",
       "      <td>4968</td>\n",
       "      <td>1249975000</td>\n",
       "      <td>1249975000</td>\n",
       "    </tr>\n",
       "    <tr>\n",
       "      <th>5</th>\n",
       "      <td>ordenado_decrescente_100k</td>\n",
       "      <td>18170</td>\n",
       "      <td>4999950000</td>\n",
       "      <td>4999950000</td>\n",
       "    </tr>\n",
       "    <tr>\n",
       "      <th>6</th>\n",
       "      <td>aleatorio_10k</td>\n",
       "      <td>201</td>\n",
       "      <td>49995000</td>\n",
       "      <td>49995000</td>\n",
       "    </tr>\n",
       "    <tr>\n",
       "      <th>7</th>\n",
       "      <td>aleatorio_50k</td>\n",
       "      <td>4929</td>\n",
       "      <td>1249975000</td>\n",
       "      <td>1249975000</td>\n",
       "    </tr>\n",
       "    <tr>\n",
       "      <th>8</th>\n",
       "      <td>aleatorio_100k</td>\n",
       "      <td>17729</td>\n",
       "      <td>4999950000</td>\n",
       "      <td>4999950000</td>\n",
       "    </tr>\n",
       "  </tbody>\n",
       "</table>\n",
       "</div>"
      ],
      "text/plain": [
       "         Quantidade de Dados  Tempo / MS       Swaps  Comparações\n",
       "0               ordenado_10k         160    49995000     49995000\n",
       "1               ordenado_50k        4083  1249975000   1249975000\n",
       "2              ordenado_100k       14949  4999950000   4999950000\n",
       "3   ordenado_decrescente_10k         203    49995000     49995000\n",
       "4   ordenado_decrescente_50k        4968  1249975000   1249975000\n",
       "5  ordenado_decrescente_100k       18170  4999950000   4999950000\n",
       "6              aleatorio_10k         201    49995000     49995000\n",
       "7              aleatorio_50k        4929  1249975000   1249975000\n",
       "8             aleatorio_100k       17729  4999950000   4999950000"
      ]
     },
     "execution_count": 13,
     "metadata": {},
     "output_type": "execute_result"
    }
   ],
   "source": [
    "comp = {'Comparações' : [49995000, 1249975000, 4999950000, 49995000, 1249975000, 4999950000, 49995000, 1249975000, 4999950000]}\n",
    "swaps = [49995000, 1249975000, 4999950000, 49995000, 1249975000, 4999950000, 49995000,  1249975000, 4999950000]\n",
    "temp = [160, 4083, 14949, 203, 4968, 18170, 201, 4929, 17729]\n",
    "df_selection_pc2 = pd.DataFrame(comp)\n",
    "df_selection_pc2['Swaps'] = swaps\n",
    "df_selection_pc2['Tempo / MS'] = temp\n",
    "df_selection_pc2['Quantidade de Dados'] = ordenado\n",
    "df_selection_pc2 = df_selection_pc2[['Quantidade de Dados', 'Tempo / MS', 'Swaps', 'Comparações']]\n",
    "df_selection_pc2"
   ]
  },
  {
   "cell_type": "markdown",
   "id": "75dc631c-0d1e-4450-8b26-7d355458cc46",
   "metadata": {},
   "source": [
    "### → Graphics"
   ]
  },
  {
   "cell_type": "code",
   "execution_count": 14,
   "id": "d4d02005-4e88-41a2-ab69-12e72669e3cd",
   "metadata": {},
   "outputs": [
    {
     "data": {
      "image/png": "[encoded data removed]",
      "text/plain": [
       "<Figure size 720x360 with 1 Axes>"
      ]
     },
     "metadata": {
      "needs_background": "light"
     },
     "output_type": "display_data"
    }
   ],
   "source": [
    "temp.sort()\n",
    "plt.figure(figsize=(10,5))\n",
    "plt.plot(ordenado, temp)\n",
    "plt.title(f\"Insertion Sort - Computador 2\")\n",
    "plt.xticks(rotation=45)\n",
    "plt.show()"
   ]
  },
  {
   "cell_type": "code",
   "execution_count": null,
   "id": "a7261898-5c34-47ab-843f-e460ac1d513a",
   "metadata": {},
   "outputs": [],
   "source": []
  }
 ],
 "metadata": {
  "kernelspec": {
   "display_name": "Python 3 (ipykernel)",
   "language": "python",
   "name": "python3"
  },
  "language_info": {
   "codemirror_mode": {
    "name": "ipython",
    "version": 3
   },
   "file_extension": ".py",
   "mimetype": "text/x-python",
   "name": "python",
   "nbconvert_exporter": "python",
   "pygments_lexer": "ipython3",
   "version": "3.10.5"
  }
 },
 "nbformat": 4,
 "nbformat_minor": 5
}
